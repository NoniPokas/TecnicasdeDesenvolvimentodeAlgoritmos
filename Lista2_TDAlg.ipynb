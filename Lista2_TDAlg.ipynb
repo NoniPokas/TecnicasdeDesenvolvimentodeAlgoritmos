{
  "nbformat": 4,
  "nbformat_minor": 0,
  "metadata": {
    "colab": {
      "provenance": [],
      "include_colab_link": true
    },
    "kernelspec": {
      "name": "python3",
      "display_name": "Python 3"
    },
    "language_info": {
      "name": "python"
    }
  },
  "cells": [
    {
      "cell_type": "markdown",
      "metadata": {
        "id": "view-in-github",
        "colab_type": "text"
      },
      "source": [
        "<a href=\"https://colab.research.google.com/github/NoniPokas/TecnicasdeDesenvolvimentodeAlgoritmos/blob/main/Lista2_TDAlg.ipynb\" target=\"_parent\"><img src=\"https://colab.research.google.com/assets/colab-badge.svg\" alt=\"Open In Colab\"/></a>"
      ]
    },
    {
      "cell_type": "code",
      "execution_count": null,
      "metadata": {
        "colab": {
          "base_uri": "https://localhost:8080/"
        },
        "id": "vxtvR5DUPIq0",
        "outputId": "8d3927d4-16ba-4291-dc15-00164498074e"
      },
      "outputs": [
        {
          "output_type": "stream",
          "name": "stdout",
          "text": [
            "Digite um numero real:9\n",
            "O numero 9.0 é menor que 10\n"
          ]
        }
      ],
      "source": [
        "#1. Elabore um programa que solicite ao usuário um número real e ao final imprima na tela se o número informado é maior que 10 (dez)\n",
        "num1 = float(input('Digite um numero real:'))\n",
        "\n",
        "if num1 > 10:\n",
        "  print(f\"O numero {num1} é maior que 10\")\n",
        "else:\n",
        "  print(f\"O numero {num1} é menor que 10\")"
      ]
    },
    {
      "cell_type": "code",
      "source": [
        "#2. Escreva um programa que solicite ao usuário um número real e ao final imprima na tela se o número informado é maior ou igual a dez ou menor que 10 (dez)\n",
        "num1 = float(input('Digite um numero real:'))\n",
        "if num1 >= 10:\n",
        "  print(f\"O numero {num1} é maior ou igual a 10\")\n",
        "else:\n",
        "  print(f\"O numero {num1} é menor que 10\")\n"
      ],
      "metadata": {
        "colab": {
          "base_uri": "https://localhost:8080/"
        },
        "id": "JzM9mUq-QSuP",
        "outputId": "56f9ec61-724c-4c16-86fc-1a86d5ea1a3b"
      },
      "execution_count": null,
      "outputs": [
        {
          "output_type": "stream",
          "name": "stdout",
          "text": [
            "Digite um numero real:50\n",
            "O numero 50.0 é maior ou igual a 10\n"
          ]
        }
      ]
    },
    {
      "cell_type": "code",
      "source": [
        "#3. Elabore um algoritmo que solicite ao usuário um número real e ao final imprima na tela se o número informado é maior que dez, se é menor que dez, ou se é igual a dez\n",
        "num1 = float(input('Digite um numero real:'))\n",
        "\n",
        "if num1 > 10:\n",
        "  print(f\"O numero {num1} é maior que 10\")\n",
        "elif num1 == 10:\n",
        "  print(f\"O numero {num1} é igual a dez\")\n",
        "else:\n",
        "   print(f\"O numero {num1} é menor que 10\")"
      ],
      "metadata": {
        "id": "6anyRKy_RZdU"
      },
      "execution_count": null,
      "outputs": []
    },
    {
      "cell_type": "code",
      "source": [
        "# 4. Elabore um algoritmo que solicite ao usuário um número real e ao final imprima na tela se o número informado é positivo, negativo ou nulo (zero)\n",
        "num1 = float(input('Digite um numero real: '))\n",
        "if num1 > 0:\n",
        "  print(f\"o numero {num1} é positivo\")\n",
        "elif num1 < 0:\n",
        "  print(f\"o numero {num1} é negativo\")\n",
        "elif num1 == 0:\n",
        "  print(f\" o numero {num1} é nulo \")\n"
      ],
      "metadata": {
        "id": "kMM2tZkCTZqY",
        "colab": {
          "base_uri": "https://localhost:8080/"
        },
        "outputId": "a4c7db5b-694a-4637-fbdd-7f6e8e729a19"
      },
      "execution_count": null,
      "outputs": [
        {
          "output_type": "stream",
          "name": "stdout",
          "text": [
            "Digite um numero real0\n",
            " o numero 0.0 é nulo \n"
          ]
        }
      ]
    },
    {
      "cell_type": "code",
      "source": [
        "#5. Elabore um algoritmo que leia um número inteiro e imprima uma das mensagens: é múltiplo de 3, ou, não é múltiplo de 3\n",
        "num1 = int(input('Digite um número inteiro: '))\n",
        "\n",
        "if num1 % 3 == 0:\n",
        "  print(f'O número é divisível por 3')\n",
        "else:\n",
        "  print(f'O número não é divisível por 3')"
      ],
      "metadata": {
        "id": "6pilk93VaoSr"
      },
      "execution_count": null,
      "outputs": []
    },
    {
      "cell_type": "code",
      "source": [
        "#6 Refazer o exercício anterior, solicitando antes o múltiplo a ser testado\n",
        "num1 = int(input('Digite um número inteiro: '))\n",
        "num2 = int(input('Ele é múltiplo de: '))\n",
        "\n",
        "if num1 % num2 == 0:\n",
        "  print(f'O número é múltiplo de {num2}')\n",
        "else:\n",
        "  print(f'O número não é múltiplo de {num2}')\n"
      ],
      "metadata": {
        "id": "8MuxJPfHbgal"
      },
      "execution_count": null,
      "outputs": []
    },
    {
      "cell_type": "code",
      "source": [
        "#7. Desenvolva um algoritmo que classifique um número inteiro fornecido pelo usuário como par ou ímpar\n",
        "num1 = int(input(\"Digite um numero: \"))\n",
        "if num1 % 2 == 0:\n",
        "  print(f\"O numero {num1} é par\")\n",
        "else:\n",
        "  print(f\"O numero {num1} é impar\")\n"
      ],
      "metadata": {
        "colab": {
          "base_uri": "https://localhost:8080/"
        },
        "id": "tleYyGlKbgwl",
        "outputId": "bbdec9f8-2527-4216-807b-30a89c1ae457"
      },
      "execution_count": null,
      "outputs": [
        {
          "output_type": "stream",
          "name": "stdout",
          "text": [
            "Digite um numero: 5\n",
            "O numero 5 é impar\n"
          ]
        }
      ]
    },
    {
      "cell_type": "code",
      "source": [
        "#8. Elabore um algoritmo que leia um número, e se ele for maior do que 20, imprimir a metade desse número, caso contrário, imprimir o dobro do número num1 = int(input(\"Digite um numero: \")) dois = 2\n",
        "\n",
        "if num1 > 20:\n",
        "  print(f\"A metade desse numero é {num1/dois}\")\n",
        "else:\n",
        "  print(f\"O dobro desse numero é {num1*dois}\")"
      ],
      "metadata": {
        "colab": {
          "base_uri": "https://localhost:8080/"
        },
        "id": "70jFuWcxdz4A",
        "outputId": "59be41eb-bcda-473e-88bf-677b944303d6"
      },
      "execution_count": null,
      "outputs": [
        {
          "output_type": "stream",
          "name": "stdout",
          "text": [
            "Digite um numero: 50\n",
            "A metade desse numero é 25.0\n"
          ]
        }
      ]
    },
    {
      "cell_type": "code",
      "source": [
        "# 9. Elabore um algoritmo que leia dois números inteiros e realize a adição; caso o resultado seja maior que 10, imprima o quadrado do resultado, caso contrário, imprima a metade dele\n",
        "num1 = int(input('Digite um número inteiro: '))\n",
        "num2 = int(input('Digite outro número inteiro: '))\n",
        "soma = num1 + num2\n",
        "\n",
        "if soma > 10:\n",
        "  print(f'O quadrado do resultado é: {soma*soma}')\n",
        "else:\n",
        "  print(f'Metade do resultado é: {soma/2}')"
      ],
      "metadata": {
        "colab": {
          "base_uri": "https://localhost:8080/"
        },
        "id": "bWSwdtQXeeos",
        "outputId": "4c19ffc2-1786-4e51-d6d1-1102c2823660"
      },
      "execution_count": null,
      "outputs": [
        {
          "output_type": "stream",
          "name": "stdout",
          "text": [
            "Digite um número inteiro: 5\n",
            "Digite outro número inteiro: 5\n",
            "Metade do resultado é: 5.0\n"
          ]
        }
      ]
    },
    {
      "cell_type": "code",
      "source": [
        "#10. O sistema de avaliação de determinada disciplina é composto por três provas. A primeira prova tem peso 2, a segunda tem peso 3 e a terceira tem peso 5. Considerando que a\n",
        "#média para aprovação é 6.0, faça um algoritmo para calcular a média final de um aluno desta disciplina e dizer se o aluno foi aprovado ou não\n",
        "nota1 = float(input(\"Digite sua primeira nota: \"))\n",
        "peso1 = 1\n",
        "nota2 = float(input(\"Digite sua primeira nota: \"))\n",
        "peso2 = 2\n",
        "nota3 = float(input(\"Digite sua primeira nota: \"))\n",
        "peso3 = 5\n",
        "media_final = (nota1 * peso1 + nota2 * peso2 + nota3 * peso3 / 3)\n",
        "\n",
        "if media_final >= 6.0:\n",
        "  print(f\"O aluno teve media {media_final}, aluno aprovado\")\n",
        "else:\n",
        "  print(f\"O aluno teve media {media_final}, aluno reprovado\")"
      ],
      "metadata": {
        "id": "gyrx2glcfXGo",
        "colab": {
          "base_uri": "https://localhost:8080/"
        },
        "outputId": "9d9651d3-b1fd-468a-fd71-5cc12af308c5"
      },
      "execution_count": null,
      "outputs": [
        {
          "output_type": "stream",
          "name": "stdout",
          "text": [
            "Digite sua primeira nota: 1\n",
            "Digite sua primeira nota: 1\n",
            "Digite sua primeira nota: 1\n",
            "O aluno teve media 4.666666666666667, aluno reprovado\n"
          ]
        }
      ]
    },
    {
      "cell_type": "code",
      "source": [
        "#11. Elabore um algoritmo que leia o nome e o peso de duas pessoas e imprima o nome da pessoa mais pesada\n",
        "\n",
        "nome1 = input('Qual nome da 1° pessoa? ')\n",
        "Peso1 = float(input('Qual peso dela? Em kg. '))\n",
        "nome2 = input('Qual nome da 2° pessoa? ')\n",
        "Peso2 = float(input('Qual peso dela? Em kg. '))\n",
        "\n",
        "if Peso1 > Peso2:\n",
        " print(f'A pessoa {nome1} é mais pesada.')\n",
        "else:\n",
        " print(f'A pessoa {nome2} é mais pesada.')"
      ],
      "metadata": {
        "colab": {
          "base_uri": "https://localhost:8080/"
        },
        "id": "uSDYvQi_ZkVl",
        "outputId": "aa4b5063-2d5d-4390-bb6e-161a0c56a244"
      },
      "execution_count": null,
      "outputs": [
        {
          "output_type": "stream",
          "name": "stdout",
          "text": [
            "Qual nome da 1° pessoa? Ppppp\n",
            "Qual peso dela? Em kg. 100\n",
            "Qual nome da 2° pessoa? aaaaa\n",
            "Qual peso dela? Em kg. 50\n",
            "A pessoa Ppppp é mais pesada.\n"
          ]
        }
      ]
    },
    {
      "cell_type": "code",
      "source": [
        "#12 Elabore um algoritmo que indique se um número digitado está compreendido entre 20 e 90, ou não\n",
        "num1 = int(input('Digite um número inteiro: '))\n",
        "\n",
        "if num1 > 20 and num1 < 90:\n",
        "  print('O número está entre 20 e 90')\n",
        "else:\n",
        "  print('O número não está entre 20 e 90')"
      ],
      "metadata": {
        "colab": {
          "base_uri": "https://localhost:8080/"
        },
        "id": "BF1I3YSVfn2D",
        "outputId": "ee76c9d4-adbe-4a2c-bab9-2987f9dfba18"
      },
      "execution_count": null,
      "outputs": [
        {
          "output_type": "stream",
          "name": "stdout",
          "text": [
            "Digite um número inteiro: 100\n",
            "O número não está entre 20 e 90\n"
          ]
        }
      ]
    },
    {
      "cell_type": "code",
      "source": [
        "#13 Elabore um algoritmo que leia dois números e imprima qual é maior, qual é menor, ou se são iguais\n",
        "num1 = float(input('Digite um número: '))\n",
        "num2 = float(input('Digite outro número: '))\n",
        "\n",
        "if num1 < num2:\n",
        "  print(f'O número {num1} é menor que {num2}.')\n",
        "elif num1 > num2:\n",
        "  print(f'O número {num1} é maior que {num2}.')\n",
        "elif num1 == num2:\n",
        "  print(f'O número {num1} e {num2} são iguais.')\n"
      ],
      "metadata": {
        "id": "lipvmVWrg6RN",
        "colab": {
          "base_uri": "https://localhost:8080/"
        },
        "outputId": "0b8f5e2a-ed0e-45dd-d0e1-413f2e69d610"
      },
      "execution_count": null,
      "outputs": [
        {
          "output_type": "stream",
          "name": "stdout",
          "text": [
            "Digite um número: 2\n",
            "Digite outro número: 2\n",
            "O número 2.0 e 2.0 são iguais.\n"
          ]
        }
      ]
    },
    {
      "cell_type": "code",
      "source": [
        "#14."
      ],
      "metadata": {
        "id": "R7ZDAAsJZlT1"
      },
      "execution_count": null,
      "outputs": []
    },
    {
      "cell_type": "code",
      "source": [],
      "metadata": {
        "id": "K8gS3UO3ZnJV"
      },
      "execution_count": null,
      "outputs": []
    }
  ]
}