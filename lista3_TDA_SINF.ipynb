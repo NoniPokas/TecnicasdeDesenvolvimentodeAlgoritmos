{
  "nbformat": 4,
  "nbformat_minor": 0,
  "metadata": {
    "colab": {
      "provenance": [],
      "include_colab_link": true
    },
    "kernelspec": {
      "name": "python3",
      "display_name": "Python 3"
    },
    "language_info": {
      "name": "python"
    }
  },
  "cells": [
    {
      "cell_type": "markdown",
      "metadata": {
        "id": "view-in-github",
        "colab_type": "text"
      },
      "source": [
        "<a href=\"https://colab.research.google.com/github/NoniPokas/TecnicasdeDesenvolvimentodeAlgoritmos/blob/main/lista3_TDA_SINF.ipynb\" target=\"_parent\"><img src=\"https://colab.research.google.com/assets/colab-badge.svg\" alt=\"Open In Colab\"/></a>"
      ]
    },
    {
      "cell_type": "code",
      "execution_count": null,
      "metadata": {
        "id": "QhYurAsVIgvX"
      },
      "outputs": [],
      "source": [
        "#1. Elabore um algoritmo que imprima na tela lado a lado o texto \"Hello World!\" 10 vezes.\n",
        "for i in range(10):\n",
        "    print(\"Hello World! \", end=\"\")\n"
      ]
    },
    {
      "cell_type": "code",
      "source": [
        "#2. Elabore um algoritmo que imprima na tela o texto \"Hello World!\" 10 vezes, um por linha\n",
        "for i in range(10):\n",
        "  print(\"Hello World!\")"
      ],
      "metadata": {
        "id": "APihAZ94T26r"
      },
      "execution_count": null,
      "outputs": []
    },
    {
      "cell_type": "code",
      "source": [
        " #3. Elabore um algoritmo que imprima todos os números inteiros de 1 até 100\n",
        "for a in range(1,101):\n",
        "  print(a)"
      ],
      "metadata": {
        "id": "cC7TwKILVPpm"
      },
      "execution_count": null,
      "outputs": []
    },
    {
      "cell_type": "code",
      "source": [
        "#4. Elabore um algoritmo que imprima 100 vezes o texto \"1- Hello World!\" com o número.\n",
        "for m in range(1,101):\n",
        "  print(m,'- Hello World!')"
      ],
      "metadata": {
        "id": "oEcs9lwtVmP-"
      },
      "execution_count": null,
      "outputs": []
    },
    {
      "cell_type": "code",
      "source": [
        "#5. Elabore um algoritmo que imprima todos os números decrescentes de 100 até 0 inclusive.\n",
        "for numero in range(100, -1, -1):\n",
        "    print(numero)"
      ],
      "metadata": {
        "id": "ab10L06lexLW"
      },
      "execution_count": null,
      "outputs": []
    },
    {
      "cell_type": "code",
      "source": [
        "#6. Elabore um algoritmo que imprima todos os números pares inteiros de 1 até 1000.\n",
        "\n",
        "for numero in range(1000):\n",
        "  if numero % 2 == 0:\n",
        "    print(numero)"
      ],
      "metadata": {
        "id": "p0AUEZbLeyz9"
      },
      "execution_count": null,
      "outputs": []
    },
    {
      "cell_type": "code",
      "source": [
        "#7. Elabore um algoritmo que imprima todos os números ímpares de 1000 até 0\n",
        "for n in range(1000,-1,-1):\n",
        "  if n%2!=0:\n",
        "    print(n)"
      ],
      "metadata": {
        "id": "F-l3SJ8-XaZ5"
      },
      "execution_count": null,
      "outputs": []
    },
    {
      "cell_type": "code",
      "source": [
        "#8. Elabore um algoritmo que imprima a soma dos 100 primeiros números inteiros positivos.\n",
        "soma = 0\n",
        "for numero in range(1, 101):\n",
        "   soma = (soma + numero)\n",
        "print(soma)"
      ],
      "metadata": {
        "id": "33cNXlB0e3zG"
      },
      "execution_count": null,
      "outputs": []
    },
    {
      "cell_type": "code",
      "source": [
        "#9. Elabore um algoritmo que solicite ao usuário um número inteiro que indicará a quantidade de vezes que o texto \"Hello World!\" será impresso na tela,\n",
        "#um em cada linha.\n",
        "\n",
        "num = int(input('Digite um número inteiro para indicar quantas vezes o texto \"Hello World!\" Será impresso:'))\n",
        "for i in range(num):\n",
        "  print('Hello World!')"
      ],
      "metadata": {
        "id": "0QOnNitue_tk"
      },
      "execution_count": null,
      "outputs": []
    },
    {
      "cell_type": "code",
      "source": [
        "#10. Elabore um algoritmo que solicite ao usuário uma palavra e um número inteiro que indicará a quantidade de vezes que a palavra digitada será impressa na tela, um em cada linha.\n",
        "\n",
        "while True:\n",
        "    palavra = input(\"Digite uma palavra: \")\n",
        "    if palavra:\n",
        "        break\n",
        "    else:\n",
        "        print(\"A palavra não pode ser vazia. Tente novamente.\")\n",
        "\n",
        "\n",
        "while True:\n",
        "    try:\n",
        "        quantidade = int(input(f\"Digite um número inteiro para a quantidade de vezes que a palavra '{palavra}' será impressa: \"))\n",
        "        if quantidade >= 0:\n",
        "            break\n",
        "        else:\n",
        "            print(\"Por favor, digite um número inteiro não negativo.\")\n",
        "    except ValueError:\n",
        "        print(\"Entrada inválida. Por favor, digite um número inteiro.\")\n",
        "\n",
        "for _ in range(quantidade):\n",
        "    print(palavra)"
      ],
      "metadata": {
        "id": "uOfLgkzPe6am"
      },
      "execution_count": null,
      "outputs": []
    },
    {
      "cell_type": "code",
      "metadata": {
        "id": "c211b61c"
      },
      "source": [
        "#11. Elabore um algoritmo que leia um número de entrada que indicará a quantidade de números a serem lidos. Em seguida, leia n números (conforme\n",
        "#o valor informado anteriormente) e imprima a soma e a média aritmética dos números informados.\n",
        "\n",
        "quantidade_numeros = int(input(\"Digite a quantidade de números a serem lidos: \"))\n",
        "soma = 0\n",
        "for _ in range(quantidade_numeros):\n",
        "  numero = float(input(\"Digite um número: \"))\n",
        "  soma += numero\n",
        "\n",
        "media = soma / quantidade_numeros\n",
        "\n",
        "print(f\"A soma dos números é: {soma}\")\n",
        "print(f\"A média dos números é: {media}\")"
      ],
      "execution_count": null,
      "outputs": []
    },
    {
      "cell_type": "code",
      "source": [
        "#12. # Elabore um algoritmo que leia um número de entrada que indicará a quantidade de registros a serem lidos (N).\n",
        "# Em seguida algoritmo deve solicitar o nome e idade de N pessoas e ao final apresentar o nome da pessoa mais velha\n",
        "\n",
        "quantidade_registros = int(input(\"Digite a quantidade de registros a serem lidos: \"))\n",
        "\n",
        "pessoa_mais_velha = \"\"\n",
        "idade_mais_velha = -1 # Inicializa com uma idade impossível para garantir que a primeira pessoa seja considerada a mais velha\n",
        "\n",
        "for _ in range(quantidade_registros):\n",
        "  nome = input(\"Digite o nome da pessoa: \")\n",
        "  idade = int(input(\"Digite a idade da pessoa: \"))\n",
        "\n",
        "  if idade > idade_mais_velha:\n",
        "    idade_mais_velha = idade\n",
        "    pessoa_mais_velha = nome\n",
        "\n",
        "print(f\"A pessoa mais velha é: {pessoa_mais_velha}\")"
      ],
      "metadata": {
        "id": "OTcp3cBGarbp"
      },
      "execution_count": null,
      "outputs": []
    },
    {
      "cell_type": "code",
      "metadata": {
        "id": "2a13f4b9"
      },
      "source": [
        "#13. Elabore um algoritmo que leia um número de entrada que indicará a quantidade de\n",
        "#registros a serem lidos (N). Em seguida algoritmo deve solicitar o sexo (M/F) e idade de N\n",
        "#pessoas e ao final apresentar a média de idade de ambos os gêneros catalogados\n",
        "\n",
        "quantidade_registros = int(input(\"Digite a quantidade de registros a serem lidos: \"))\n",
        "\n",
        "soma_idades_m = 0\n",
        "contador_m = 0\n",
        "soma_idades_f = 0\n",
        "contador_f = 0\n",
        "\n",
        "for _ in range(quantidade_registros):\n",
        "  sexo = input(\"Digite o sexo (M/F): \").upper()\n",
        "  idade = int(input(\"Digite a idade: \"))\n",
        "\n",
        "  if sexo == 'M':\n",
        "    soma_idades_m += idade\n",
        "    contador_m += 1\n",
        "  elif sexo == 'F':\n",
        "    soma_idades_f += idade\n",
        "    contador_f += 1\n",
        "  else:\n",
        "    print(\"Sexo inválido. Por favor, digite M ou F.\")\n",
        "\n",
        "media_idade_m = soma_idades_m / contador_m if contador_m > 0 else 0\n",
        "media_idade_f = soma_idades_f / contador_f if contador_f > 0 else 0\n",
        "\n",
        "print(f\"Média de idade Masculina: {media_idade_m:.2f}\")\n",
        "print(f\"Média de idade Feminina: {media_idade_f:.2f}\")"
      ],
      "execution_count": null,
      "outputs": []
    },
    {
      "cell_type": "code",
      "source": [
        "0#14. Elabore um algoritmo que solicite ao usuário 10 números reais e ao final apresente o maior e o menor deles.\n",
        "\n",
        "maior = float('-inf')  # Esse representa um valor negativo infinito\n",
        "menor = float('inf')   # Esse representa um positivo infinito\n",
        "\n",
        "for i in range(10):\n",
        "  numero = float(input(f\"Digite o {i+1}º número real: \"))\n",
        "\n",
        "  if numero > maior:\n",
        "    maior = numero\n",
        "  if numero < menor:\n",
        "    menor = numero\n",
        "\n",
        "print(f\"O maior número digitado é: {maior}\")\n",
        "print(f\"O menor número digitado é: {menor}\")"
      ],
      "metadata": {
        "id": "Z7T1o30wdXGC"
      },
      "execution_count": null,
      "outputs": []
    },
    {
      "cell_type": "code",
      "source": [
        "#15. Elabore um algoritmo que solicite N números reais e quando o usuário informar o valor nulo 0 (zero) o programa ordene e\n",
        "# mostre todos os números informados de forma crescente\n",
        "\n",
        "numeros = []\n",
        "\n",
        "while True:\n",
        "  numero = float(input(\"Digite um número real (ou 0 para parar): \"))\n",
        "  if numero == 0:\n",
        "    break\n",
        "  numeros.append(numero)\n",
        "\n",
        "numeros.sort()\n",
        "\n",
        "print(\"Números informados em ordem crescente:\")\n",
        "for numero in numeros:\n",
        "  print(numero)"
      ],
      "metadata": {
        "id": "EOMg5b9-aKjY"
      },
      "execution_count": null,
      "outputs": []
    },
    {
      "cell_type": "code",
      "source": [
        "#16. Escreva um programa que vá solicitando as idades dos alunos da sala até que todos sejam informados (perguntar ao usuário se deseja informar a idade do próximo aluno). Ao\n",
        "#final apresentar a idade do mais novo, a idade do mais velho, Quantos alunos têm mais de 18 anos, quantos alunos têm até 18 anos, a média aritmética e a mediana.\n",
        "\n",
        "idades_alunos = []\n",
        "\n",
        "while True:\n",
        "  try:\n",
        "    idade = int(input(\"Digite a idade do aluno: \"))\n",
        "    idades_alunos.append(idade)\n",
        "    continuar = input(\"Deseja informar a idade de outro aluno? (s/n): \").lower()\n",
        "    if continuar != 's':\n",
        "      break\n",
        "  except ValueError:\n",
        "    print(\"Entrada inválida. Por favor, digite um número inteiro para a idade.\")\n",
        "\n",
        "\n",
        "if idades_alunos:\n",
        "    idade_mais_nova = min(idades_alunos)\n",
        "    idade_mais_velha = max(idades_alunos)\n",
        "\n",
        "    alunos_mais_de_18 = sum(1 for idade in idades_alunos if idade > 18)\n",
        "    alunos_ate_18 = sum(1 for idade in idades_alunos if idade <= 18)\n",
        "\n",
        "    media_idades = sum(idades_alunos) / len(idades_alunos)\n",
        "\n",
        "    idades_ordenadas = sorted(idades_alunos)\n",
        "    tamanho_lista = len(idades_ordenadas)\n",
        "    if tamanho_lista % 2 == 0:\n",
        "        # Se o número de elementos for par, a mediana é a média dos dois elementos do meio\n",
        "        meio1 = idades_ordenadas[tamanho_lista // 2 - 1]\n",
        "        meio2 = idades_ordenadas[tamanho_lista // 2]\n",
        "        mediana = (meio1 + meio2) / 2\n",
        "    else:\n",
        "        # Se o número de elementos for ímpar, a mediana é o elemento do meio\n",
        "        mediana = idades_ordenadas[tamanho_lista // 2]\n",
        "else:\n",
        "    print(\"Nenhuma idade informada.\")\n",
        "    idade_mais_nova = None\n",
        "    idade_mais_velha = None\n",
        "    alunos_mais_de_18 = None\n",
        "    alunos_ate_18 = None\n",
        "    media_idades = None\n",
        "    mediana = None\n",
        "\n",
        "if idades_alunos:\n",
        "    print(\"\\n--- Estatísticas das Idades ---\")\n",
        "    print(f\"Idade do aluno mais novo: {idade_mais_nova}\")\n",
        "    print(f\"Idade do aluno mais velho: {idade_mais_velha}\")\n",
        "    print(f\"Alunos com mais de 18 anos: {alunos_mais_de_18}\")\n",
        "    print(f\"Alunos com até 18 anos: {alunos_ate_18}\")\n",
        "    print(f\"Média aritmética das idades: {media_idades:.2f}\")\n",
        "    print(f\"Mediana das idades: {mediana}\")"
      ],
      "metadata": {
        "id": "IZiNX9v5amGD"
      },
      "execution_count": null,
      "outputs": []
    },
    {
      "cell_type": "code",
      "source": [],
      "metadata": {
        "id": "smsIaBjqdXRn"
      },
      "execution_count": null,
      "outputs": []
    }
  ]
}